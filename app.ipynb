{
 "cells": [
  {
   "cell_type": "markdown",
   "metadata": {},
   "source": [
    "# Convolutional Neural Networks\n",
    "\n",
    "## Project: Write an Algorithm for Landmark Classification\n",
    "\n",
    "### A simple app\n",
    "\n",
    "In this notebook we build a very simple app that uses our exported model.\n",
    "\n",
    "> <img src=\"static_images/icons/noun-info-2558213.png\" alt=\"?\" style=\"width:25px\"/> Note how we are not importing anything from our source code (we do not use any module from the ``src`` directory). This is because the exported model, differently from the model weights, is a standalone serialization of our model and therefore it does not need anything else. You can ship that file to anybody, and as long as they can import ``torch``, they will be able to use your model. This is very important for releasing pytorch models to production.\n",
    "\n",
    "### Test your app\n",
    "Go to a search engine for images (like Google Images) and search for images of some of the landmarks, like the Eiffel Tower, the Golden Gate Bridge, Machu Picchu and so on. Save a few examples locally, then upload them to your app to see how your model behaves!\n",
    "\n",
    "The app will show the top 5 classes that the model think are most relevant for the picture you have uploaded"
   ]
  },
  {
   "cell_type": "code",
   "execution_count": 3,
   "metadata": {},
   "outputs": [
    {
     "ename": "RuntimeError",
     "evalue": "\nUnknown builtin op: torchvision::_interpolate_bilinear2d_aa.\nCould not find any similar ops to torchvision::_interpolate_bilinear2d_aa. This op may not exist or may not be currently supported in TorchScript.\n:\n  File \"code/__torch__/torchvision/transforms/functional_tensor.py\", line 112\n      _35 = torch.eq(interpolation0, \"bilinear\")\n      if _35:\n        img3 = ops.torchvision._interpolate_bilinear2d_aa(img0, [new_h, new_w], False)\n               ~~~~~~~~~~~~~~~~~~~~~~~~~~~~~~~~~~~~~~~~~~ <--- HERE\n        img2 = img3\n      else:\n'resize' is being compiled since it was called from 'resize'\nSerialized   File \"code/__torch__/torchvision/transforms/functional.py\", line 13\n    max_size: Optional[int]=None,\n    antialias: Optional[bool]=None) -> Tensor:\n  _0 = __torch__.torchvision.transforms.functional_tensor.resize\n  ~~~~~~~~~~~~~~~~~~~~~~~~~~~~~~~~~~~~~~~~~~~~~~~~~~~~~~~~~~~~~~ <--- HERE\n  interpolation0 = unchecked_cast(__torch__.torchvision.transforms.functional.InterpolationMode, interpolation)\n  interpolation1 = unchecked_cast(__torch__.torchvision.transforms.functional.InterpolationMode, interpolation0)\n'resize' is being compiled since it was called from 'Resize.forward'\nSerialized   File \"code/__torch__/torchvision/transforms/transforms.py\", line 12\n  def forward(self: __torch__.torchvision.transforms.transforms.Resize,\n    img: Tensor) -> Tensor:\n    _0 = __torch__.torchvision.transforms.functional.resize\n    ~~~~~~~~~~~~~~~~~~~~~~~~~~~~~~~~~~~~~~~~~~~~~~~~~~~~~~~ <--- HERE\n    size = self.size\n    interpolation = self.interpolation\n",
     "output_type": "error",
     "traceback": [
      "\u001b[1;31m---------------------------------------------------------------------------\u001b[0m",
      "\u001b[1;31mRuntimeError\u001b[0m                              Traceback (most recent call last)",
      "Cell \u001b[1;32mIn[3], line 11\u001b[0m\n\u001b[0;32m      8\u001b[0m \u001b[39mimport\u001b[39;00m \u001b[39mtorch\u001b[39;00m\n\u001b[0;32m     10\u001b[0m \u001b[39m# Decide which model you want to use among the ones exported\u001b[39;00m\n\u001b[1;32m---> 11\u001b[0m learn_inf \u001b[39m=\u001b[39m torch\u001b[39m.\u001b[39;49mjit\u001b[39m.\u001b[39;49mload(\u001b[39m'\u001b[39;49m\u001b[39mcheckpoints_access/transfer_exported.pt\u001b[39;49m\u001b[39m'\u001b[39;49m)\u001b[39m.\u001b[39mcpu() \u001b[39m# YOUR CODE HERE\u001b[39;00m\n\u001b[0;32m     13\u001b[0m \u001b[39mdef\u001b[39;00m \u001b[39mon_click_classify\u001b[39m(change):\n\u001b[0;32m     14\u001b[0m \n\u001b[0;32m     15\u001b[0m     \u001b[39m# Load image that has been uploaded\u001b[39;00m\n\u001b[0;32m     16\u001b[0m     fn \u001b[39m=\u001b[39m io\u001b[39m.\u001b[39mBytesIO(btn_upload\u001b[39m.\u001b[39mdata[\u001b[39m-\u001b[39m\u001b[39m1\u001b[39m])\n",
      "File \u001b[1;32md:\\downloads\\logiciels\\python\\lib\\site-packages\\torch\\jit\\_serialization.py:162\u001b[0m, in \u001b[0;36mload\u001b[1;34m(f, map_location, _extra_files, _restore_shapes)\u001b[0m\n\u001b[0;32m    160\u001b[0m cu \u001b[39m=\u001b[39m torch\u001b[39m.\u001b[39m_C\u001b[39m.\u001b[39mCompilationUnit()\n\u001b[0;32m    161\u001b[0m \u001b[39mif\u001b[39;00m \u001b[39misinstance\u001b[39m(f, (\u001b[39mstr\u001b[39m, pathlib\u001b[39m.\u001b[39mPath)):\n\u001b[1;32m--> 162\u001b[0m     cpp_module \u001b[39m=\u001b[39m torch\u001b[39m.\u001b[39;49m_C\u001b[39m.\u001b[39;49mimport_ir_module(cu, \u001b[39mstr\u001b[39;49m(f), map_location, _extra_files, _restore_shapes)  \u001b[39m# type: ignore[call-arg]\u001b[39;00m\n\u001b[0;32m    163\u001b[0m \u001b[39melse\u001b[39;00m:\n\u001b[0;32m    164\u001b[0m     cpp_module \u001b[39m=\u001b[39m torch\u001b[39m.\u001b[39m_C\u001b[39m.\u001b[39mimport_ir_module_from_buffer(\n\u001b[0;32m    165\u001b[0m         cu, f\u001b[39m.\u001b[39mread(), map_location, _extra_files, _restore_shapes\n\u001b[0;32m    166\u001b[0m     )  \u001b[39m# type: ignore[call-arg]\u001b[39;00m\n",
      "\u001b[1;31mRuntimeError\u001b[0m: \nUnknown builtin op: torchvision::_interpolate_bilinear2d_aa.\nCould not find any similar ops to torchvision::_interpolate_bilinear2d_aa. This op may not exist or may not be currently supported in TorchScript.\n:\n  File \"code/__torch__/torchvision/transforms/functional_tensor.py\", line 112\n      _35 = torch.eq(interpolation0, \"bilinear\")\n      if _35:\n        img3 = ops.torchvision._interpolate_bilinear2d_aa(img0, [new_h, new_w], False)\n               ~~~~~~~~~~~~~~~~~~~~~~~~~~~~~~~~~~~~~~~~~~ <--- HERE\n        img2 = img3\n      else:\n'resize' is being compiled since it was called from 'resize'\nSerialized   File \"code/__torch__/torchvision/transforms/functional.py\", line 13\n    max_size: Optional[int]=None,\n    antialias: Optional[bool]=None) -> Tensor:\n  _0 = __torch__.torchvision.transforms.functional_tensor.resize\n  ~~~~~~~~~~~~~~~~~~~~~~~~~~~~~~~~~~~~~~~~~~~~~~~~~~~~~~~~~~~~~~ <--- HERE\n  interpolation0 = unchecked_cast(__torch__.torchvision.transforms.functional.InterpolationMode, interpolation)\n  interpolation1 = unchecked_cast(__torch__.torchvision.transforms.functional.InterpolationMode, interpolation0)\n'resize' is being compiled since it was called from 'Resize.forward'\nSerialized   File \"code/__torch__/torchvision/transforms/transforms.py\", line 12\n  def forward(self: __torch__.torchvision.transforms.transforms.Resize,\n    img: Tensor) -> Tensor:\n    _0 = __torch__.torchvision.transforms.functional.resize\n    ~~~~~~~~~~~~~~~~~~~~~~~~~~~~~~~~~~~~~~~~~~~~~~~~~~~~~~~ <--- HERE\n    size = self.size\n    interpolation = self.interpolation\n"
     ]
    }
   ],
   "source": [
    "from ipywidgets import VBox, Button, FileUpload, Output, Label\n",
    "from PIL import Image\n",
    "from IPython.display import display\n",
    "import io\n",
    "import numpy as np\n",
    "import torchvision\n",
    "import torchvision.transforms as T\n",
    "import torch\n",
    "\n",
    "# Decide which model you want to use among the ones exported\n",
    "learn_inf = torch.jit.load('checkpoints_access/transfer_exported.pt') # YOUR CODE HERE\n",
    "\n",
    "def on_click_classify(change):\n",
    "\n",
    "    # Load image that has been uploaded\n",
    "    fn = io.BytesIO(btn_upload.data[-1])\n",
    "\n",
    "    img = Image.open(fn)\n",
    "    img.load()\n",
    "\n",
    "    # Let's clear the previous output (if any)\n",
    "    out_pl.clear_output()\n",
    "\n",
    "    # Display the image\n",
    "    with out_pl:\n",
    "\n",
    "        ratio = img.size[0] / img.size[1]\n",
    "        c = img.copy()\n",
    "        c.thumbnail([ratio * 200, 200])\n",
    "        display(c)\n",
    "\n",
    "    # Transform to tensor\n",
    "    timg = T.ToTensor()(img).unsqueeze_(0)\n",
    "\n",
    "    # Calling the model\n",
    "    softmax = learn_inf(timg).data.cpu().numpy().squeeze()\n",
    "    \n",
    "    # Get the indexes of the classes ordered by softmax\n",
    "    # (larger first)\n",
    "    idxs = np.argsort(softmax)[::-1]\n",
    "    \n",
    "    # Loop over the classes with the largest softmax\n",
    "    for i in range(5):\n",
    "        # Get softmax value\n",
    "        p = softmax[idxs[i]]\n",
    "    \n",
    "        # Get class name\n",
    "        landmark_name = learn_inf.class_names[idxs[i]]\n",
    "        \n",
    "        labels[i].value = f\"{landmark_name} (prob: {p:.2f})\"\n",
    "\n",
    "\n",
    "# Putting back btn_upload to a widget for next cell\n",
    "btn_upload = FileUpload()\n",
    "\n",
    "btn_run = Button(description=\"Classify\")\n",
    "btn_run.on_click(on_click_classify)\n",
    "\n",
    "labels = []\n",
    "for _ in range(5):\n",
    "    labels.append(Label())\n",
    "\n",
    "out_pl = Output()\n",
    "out_pl.clear_output()\n",
    "\n",
    "wgs = [Label(\"Please upload a picture of a landmark\"), btn_upload, btn_run, out_pl]\n",
    "wgs.extend(labels)\n",
    "\n",
    "VBox(wgs)"
   ]
  },
  {
   "cell_type": "markdown",
   "metadata": {},
   "source": [
    "## (optional) Standalone app or web app\n",
    "\n",
    "You can run this notebook as a standalone app on your computer by following these steps:\n",
    "\n",
    "1. Download this notebook in a directory on your machine\n",
    "2. Download the model export (for example, ``checkpoints/transfer_exported.pt``) in a subdirectory called ``checkpoints`` within the directory where you save the app.ipynb notebook\n",
    "3. Install voila if you don't have it already (``pip install voila``)\n",
    "4. Run your app: ``voila app.ipynb --show_tracebacks=True``\n",
    "5. Customize your notebook to make your app prettier and rerun voila\n",
    "\n",
    "You can also deploy this app as a website using Binder: https://voila.readthedocs.io/en/stable/deploy.html#deployment-on-binder"
   ]
  },
  {
   "cell_type": "markdown",
   "metadata": {},
   "source": [
    "# Create your submission archive\n",
    "\n",
    "Now that you are done with your project, please run the following cell. It will generate a file containing all the code you have written, as well as the notebooks. Please submit that file to complete your project"
   ]
  },
  {
   "cell_type": "code",
   "execution_count": null,
   "metadata": {},
   "outputs": [],
   "source": [
    "!python src/create_submit_pkg.py"
   ]
  },
  {
   "cell_type": "code",
   "execution_count": null,
   "metadata": {},
   "outputs": [],
   "source": []
  }
 ],
 "metadata": {
  "kernelspec": {
   "display_name": "Python 3",
   "language": "python",
   "name": "python3"
  },
  "language_info": {
   "codemirror_mode": {
    "name": "ipython",
    "version": 3
   },
   "file_extension": ".py",
   "mimetype": "text/x-python",
   "name": "python",
   "nbconvert_exporter": "python",
   "pygments_lexer": "ipython3",
   "version": "3.10.10"
  },
  "widgets": {
   "application/vnd.jupyter.widget-state+json": {
    "state": {},
    "version_major": 2,
    "version_minor": 0
   }
  }
 },
 "nbformat": 4,
 "nbformat_minor": 5
}
